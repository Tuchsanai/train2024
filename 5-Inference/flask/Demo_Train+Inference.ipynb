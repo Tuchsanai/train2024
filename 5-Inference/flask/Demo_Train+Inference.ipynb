{
 "cells": [
  {
   "cell_type": "markdown",
   "id": "ebc9f3b4-b59d-4374-9132-384fba20ba3b",
   "metadata": {},
   "source": [
    "## Traing MNIST model in Tensorflow, use Slurm with Enroot/Pyxis\n",
    "`cd cluster-demo/deployments/flask/test`\n",
    "\n",
    "`srun --container-image=/dataset/squashfs/nvidia+tensorflow+22.12-tf2-py3.sqsh --container-name=tensorflow --container-workdir=$(pwd) --gpus=1 python train.py`\n",
    "\n",
    "\n",
    "### Test prediction\n",
    "`srun --container-image=/dataset/squashfs/nvidia+tensorflow+22.12-tf2-py3.sqsh --container-name=tensorflow --container-workdir=$(pwd) --gres=gpu:1g.10gb:1 python new_load.py eight.png`\n",
    "\n",
    "\n",
    "\n",
    "## App Deployment\n",
    "### 1. Deploy in DGX host\n",
    "Start Flask and deploy modells -\n",
    "#### create Virtual Environement for Flask\n",
    "```Shell\n",
    "python -m venv Flask\n",
    "source Flask/bin/activate\n",
    "pip install -r requirements.txt\n",
    "srun --gpus=1 python main.py\n",
    "```\n",
    "\n",
    "# SSH to test on DGX node\n",
    "```Shell\n",
    "cd ~/train2024/5-Inference/flask\n",
    "curl -F \"file=@test/eight.png\" http://127.0.0.1:5000\n",
    "```"
   ]
  },
  {
   "cell_type": "code",
   "execution_count": null,
   "id": "b1a5f4a8-adf9-4a7e-ab11-8b20ee1ce20e",
   "metadata": {},
   "outputs": [],
   "source": []
  }
 ],
 "metadata": {
  "kernelspec": {
   "display_name": "Python 3 (ipykernel)",
   "language": "python",
   "name": "python3"
  },
  "language_info": {
   "codemirror_mode": {
    "name": "ipython",
    "version": 3
   },
   "file_extension": ".py",
   "mimetype": "text/x-python",
   "name": "python",
   "nbconvert_exporter": "python",
   "pygments_lexer": "ipython3",
   "version": "3.10.9"
  }
 },
 "nbformat": 4,
 "nbformat_minor": 5
}
